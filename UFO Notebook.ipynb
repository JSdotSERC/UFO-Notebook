{
 "cells": [
  {
   "cell_type": "markdown",
   "metadata": {
    "application/vnd.databricks.v1+cell": {
     "cellMetadata": {
      "byteLimit": 2048000,
      "rowLimit": 10000
     },
     "inputWidgets": {},
     "nuid": "fe6845a4-8152-4d34-8ec5-464c4b5bff61",
     "showTitle": false,
     "tableResultSettingsMap": {},
     "title": ""
    }
   },
   "source": [
    "# UFO Data Analysis Notebook:\n",
    "#The Truth IS Out There!\n",
    "## __Our two datasets are:  \n",
    "1. **UFO_Sightings.csv**: A table with basic UFO sighting details like when and where they happened, and what shape the UFO was.  \n",
    "2. **UFO_Truth.csv**: A table with more detailed UFO reports, including things like the weather and research outcomes.\n",
    "\n",
    "**What You’ll Learn**  \n",
    "- How to load data into Databricks.  \n",
    "- How to look at data to spot problems (like missing or messy bits).  \n",
    "- How to clean data so it’s usable.  \n",
    "- How to join two tables together.  \n",
    "- How to find patterns and show them with charts.  \n",
    "\n",
    "# Setup\n",
    "- You’ve uploaded the two CSV files (UFO_Sightings.csv and UFO_Truth.csv) to Databricks. To do this, go to the __\"Catalog - DBFS - Upload\"__. \n",
    "- click __\"Catalog - Database Tables - Create Table,\"__ and upload each file. Name them `ufo_sightings` and `ufo_truth`.  \n",
    "- Your cluster (a computer in Databricks that runs your code) is running, look for a green \"Running\" status near your username.\n",
    "\n",
    "# Tables\n",
    "The tables we create are session only. So they will not be there after the session as they are __temp tables__. \n",
    "If you need to carry on with the notebook at a later date then you will have to create the tables all over again for a new session. \n"
   ]
  },
  {
   "cell_type": "markdown",
   "metadata": {
    "application/vnd.databricks.v1+cell": {
     "cellMetadata": {
      "byteLimit": 2048000,
      "rowLimit": 10000
     },
     "inputWidgets": {},
     "nuid": "11675907-8e72-4a6c-8e3f-3eeafa4f14b8",
     "showTitle": false,
     "tableResultSettingsMap": {},
     "title": ""
    }
   },
   "source": [
    "# Loading Data into Databricks\n",
    "**DataFrames**  \n",
    "Data lives in files like CSV (comma-separated values), which are just tables saved as text. In Databricks, we load these into something called a **DataFrame**—A super-powered spreadsheet that can handle millions of rows. We’ll load our two UFO files and look at the first few rows to see what’s inside. \n",
    "\n",
    "**Why Do We Need To Do This?**  \n",
    "Seeing the data helps us check if it loaded correctly, like weird symbols or empty rows.\n",
    "\n"
   ]
  },
  {
   "cell_type": "code",
   "execution_count": 0,
   "metadata": {
    "application/vnd.databricks.v1+cell": {
     "cellMetadata": {
      "byteLimit": 2048000,
      "rowLimit": 10000
     },
     "inputWidgets": {},
     "nuid": "cf422c2b-1fc2-463b-9d82-48d438bf6c25",
     "showTitle": false,
     "tableResultSettingsMap": {},
     "title": ""
    }
   },
   "outputs": [
    {
     "output_type": "stream",
     "name": "stdout",
     "output_type": "stream",
     "text": [
      "First 5 rows of UFO sightings:\n+----------------+--------------------+-----+-------+--------+------------------+--------------------+--------------------+-----------+----------+------------+\n|        datetime|                city|state|country|   shape|duration (seconds)|duration (hours/min)|            comments|date posted|  latitude|  longitude |\n+----------------+--------------------+-----+-------+--------+------------------+--------------------+--------------------+-----------+----------+------------+\n|10/10/1949 20:30|          san marcos|   tx|     us|cylinder|              2700|          45 minutes|This event took p...|  4/27/2004|29.8830556| -97.9411111|\n|10/10/1949 21:00|        lackland afb|   tx|   null|   light|              7200|             1-2 hrs|1949 Lackland AFB...| 12/16/2005|  29.38421|  -98.581082|\n|10/10/1955 17:00|chester (uk/england)| null|     gb|  circle|                20|          20 seconds|Green/Orange circ...|  1/21/2008|      53.2|   -2.916667|\n|10/10/1956 21:00|                edna|   tx|     us|  circle|                20|            1/2 hour|My older brother ...|  1/17/2004|28.9783333| -96.6458333|\n|10/10/1960 20:00|             kaneohe|   hi|     us|   light|               900|          15 minutes|AS a Marine 1st L...|  1/22/2004|21.4180556|-157.8036111|\n+----------------+--------------------+-----+-------+--------+------------------+--------------------+--------------------+-----------+----------+------------+\nonly showing top 5 rows\n\nFirst 5 rows of UFO truth:\n+--------------------+----------+---------+------+--------+---------+-------------+---------+----------+----------+------------+--------+----------------+-------+---------------+\n|   reportedTimestamp| eventDate|eventTime| shape|duration|witnesses|      weather|firstName|  lastName|  latitude|   longitude|sighting|physicalEvidence|contact|researchOutcome|\n+--------------------+----------+---------+------+--------+---------+-------------+---------+----------+----------+------------+--------+----------------+-------+---------------+\n|1977-04-04T04:02:...|1977-03-31|    23:46|circle|       4|        1|         rain|      Ila| Bashirian|47.3294444|-122.5788889|       Y|               N|      N|      explained|\n|1982-11-22T02:06:...|1982-11-15|    22:04|  disk|       4|        1|partly cloudy| Eriberto|Runolfsson| 52.664913|   -1.034894|       Y|               Y|      N|      explained|\n|1992-12-07T19:06:...|1992-12-07|    19:01|circle|      49|        1|        clear|   Miller|   Watsica|38.9516667| -92.3338889|       Y|               N|      N|      explained|\n|2011-02-24T21:06:...|2011-02-21|    20:56|  disk|      13|        1|partly cloudy|  Clifton| Bechtelar|41.4969444| -71.3677778|       Y|               N|      N|      explained|\n|1991-03-09T16:18:...|1991-03-09|    11:42|circle|      17|        1|mostly cloudy|    Jayda|     Ebert|47.6063889|-122.3308333|       Y|               N|      N|      explained|\n+--------------------+----------+---------+------+--------+---------+-------------+---------+----------+----------+------------+--------+----------------+-------+---------------+\nonly showing top 5 rows\n\n"
     ]
    }
   ],
   "source": [
    "#Load the UFO sightings table into a dataframe\n",
    "ufo_sightings_df = spark.read.table(\"ufo_sightings_csv\")\n",
    "print(\"First 5 rows of UFO sightings:\")\n",
    "ufo_sightings_df.show(5)\n",
    "\n",
    "#Load the UFO truth table into a dataframe\n",
    "ufo_truth_df = spark.read.table(\"ufo_truth_csv\")\n",
    "print(\"First 5 rows of UFO truth:\")\n",
    "ufo_truth_df.show(5)"
   ]
  },
  {
   "cell_type": "markdown",
   "metadata": {
    "application/vnd.databricks.v1+cell": {
     "cellMetadata": {
      "byteLimit": 2048000,
      "rowLimit": 10000
     },
     "inputWidgets": {},
     "nuid": "fb4d2fc8-a275-4261-8b33-1896b861a433",
     "showTitle": false,
     "tableResultSettingsMap": {},
     "title": ""
    }
   },
   "source": [
    "#Checking the Data’s Structure (Schema)\n",
    "**Why?**  \n",
    "Every DataFrame has a **schema**, which is like a blueprint showing the names of the columns (the headers in our table) and their **data types** (e.g., text, numbers, dates). We’ll print this to see what we’ve got and check if anything looks off—like numbers stored as text, which we can’t use for calculations yet.\n",
    "\n",
    "### Understanding the schema tells us what cleaning we’ll need to do later, like changing text to numbers or dates.\n"
   ]
  },
  {
   "cell_type": "code",
   "execution_count": 0,
   "metadata": {
    "application/vnd.databricks.v1+cell": {
     "cellMetadata": {
      "byteLimit": 2048000,
      "rowLimit": 10000
     },
     "inputWidgets": {},
     "nuid": "69a2dea8-1140-423b-af28-88a0e6c84add",
     "showTitle": false,
     "tableResultSettingsMap": {},
     "title": ""
    }
   },
   "outputs": [
    {
     "output_type": "stream",
     "name": "stdout",
     "output_type": "stream",
     "text": [
      "UFO Sightings schema: \nroot\n |-- datetime: string (nullable = true)\n |-- city: string (nullable = true)\n |-- state: string (nullable = true)\n |-- country: string (nullable = true)\n |-- shape: string (nullable = true)\n |-- duration (seconds): string (nullable = true)\n |-- duration (hours/min): string (nullable = true)\n |-- comments: string (nullable = true)\n |-- date posted: string (nullable = true)\n |-- latitude: string (nullable = true)\n |-- longitude : string (nullable = true)\n\nUFO Truth schema: \nroot\n |-- reportedTimestamp: string (nullable = true)\n |-- eventDate: string (nullable = true)\n |-- eventTime: string (nullable = true)\n |-- shape: string (nullable = true)\n |-- duration: string (nullable = true)\n |-- witnesses: string (nullable = true)\n |-- weather: string (nullable = true)\n |-- firstName: string (nullable = true)\n |-- lastName: string (nullable = true)\n |-- latitude: string (nullable = true)\n |-- longitude: string (nullable = true)\n |-- sighting: string (nullable = true)\n |-- physicalEvidence: string (nullable = true)\n |-- contact: string (nullable = true)\n |-- researchOutcome: string (nullable = true)\n\n"
     ]
    }
   ],
   "source": [
    "#print the schema for both dataframes\n",
    "print(\"UFO Sightings schema: \")\n",
    "ufo_sightings_df.printSchema()\n",
    "\n",
    "print(\"UFO Truth schema: \")\n",
    "ufo_truth_df.printSchema()"
   ]
  },
  {
   "cell_type": "markdown",
   "metadata": {
    "application/vnd.databricks.v1+cell": {
     "cellMetadata": {
      "byteLimit": 2048000,
      "rowLimit": 10000
     },
     "inputWidgets": {},
     "nuid": "63ba8c6d-19c9-48e8-85f4-7162f6800bf9",
     "showTitle": false,
     "tableResultSettingsMap": {},
     "title": ""
    }
   },
   "source": [
    "# Cleaning the Data Step-by-Step\n",
    "**What’s Cleaning?**  \n",
    "Real-world data is often messy—missing values, wrong formats, or typos. **Cleaning** means fixing these issues so we can trust our results. "
   ]
  },
  {
   "cell_type": "markdown",
   "metadata": {
    "application/vnd.databricks.v1+cell": {
     "cellMetadata": {
      "byteLimit": 2048000,
      "rowLimit": 10000
     },
     "inputWidgets": {},
     "nuid": "fa595f95-17aa-4237-8f49-f9e6c9a7ff7f",
     "showTitle": false,
     "tableResultSettingsMap": {},
     "title": ""
    }
   },
   "source": [
    "# Cleaning UFO_Sightings Data\n",
    "**What We’re Fixing**  \n",
    "- **Missing Values**: If key info like `country` or `duration (seconds)` is blank, that row isn’t very useful. We’ll remove it.  \n",
    "- **Data Types**: `duration (seconds)` is text (e.g., \"120\"=String), but it should be a number (e.g., 120.0) so we can do maths with it, like finding averages.\n",
    "\n",
    "**Why Do This?**  \n",
    "Clean data means we can analyse it without errors or missing pieces messing things up."
   ]
  },
  {
   "cell_type": "code",
   "execution_count": 0,
   "metadata": {
    "application/vnd.databricks.v1+cell": {
     "cellMetadata": {
      "byteLimit": 2048000,
      "rowLimit": 10000
     },
     "inputWidgets": {},
     "nuid": "46bde4f6-c285-411a-b1d2-04698af8bd3c",
     "showTitle": false,
     "tableResultSettingsMap": {},
     "title": ""
    }
   },
   "outputs": [
    {
     "output_type": "stream",
     "name": "stdout",
     "output_type": "stream",
     "text": [
      "root\n |-- datetime: string (nullable = true)\n |-- city: string (nullable = true)\n |-- state: string (nullable = true)\n |-- country: string (nullable = true)\n |-- shape: string (nullable = true)\n |-- duration (seconds): string (nullable = true)\n |-- duration (hours/min): string (nullable = true)\n |-- comments: string (nullable = true)\n |-- date posted: string (nullable = true)\n |-- latitude: string (nullable = true)\n |-- longitude : string (nullable = true)\n |-- duration_seconds: float (nullable = true)\n\n"
     ]
    }
   ],
   "source": [
    "from pyspark.sql.functions import col\n",
    "\n",
    "#remove rows missing 'country' or 'durations (seconds)'\n",
    "ufo_sightings_clean = ufo_sightings_df.dropna(subset=[\"country\", \"duration (seconds)\"])\n",
    "\n",
    "#change 'duration (seconds)' from text to a number (float)\n",
    "ufo_sightings_clean = ufo_sightings_clean.withColumn(\"duration_seconds\", col(\"duration (seconds)\").cast(\"float\"))\n",
    "\n",
    "#check the updated schema\n",
    "ufo_sightings_clean.printSchema()"
   ]
  },
  {
   "cell_type": "markdown",
   "metadata": {
    "application/vnd.databricks.v1+cell": {
     "cellMetadata": {
      "byteLimit": 2048000,
      "rowLimit": 10000
     },
     "inputWidgets": {},
     "nuid": "77439138-4b5c-48fd-aecd-3da289a21ceb",
     "showTitle": false,
     "tableResultSettingsMap": {},
     "title": ""
    }
   },
   "source": [
    "# Cleaning UFO_Truth Data\n",
    "**What We’re Fixing**  \n",
    "- **Missing Values**: We’ll drop rows missing `eventTime` because timing is important for understanding when UFOs appear.  \n",
    "- **Data Types**: `eventTime` is __text/String__ (e.g., \"14:30:00\"), but we’ll turn it into a proper time and pull out the hour (e.g., 14) to check for night sightings.\n",
    "\n",
    "**Why Do This?**  \n",
    "Fixing `eventTime` lets us filter for specific times (like night) and ensures we’re not missing key details.\n"
   ]
  },
  {
   "cell_type": "code",
   "execution_count": 0,
   "metadata": {
    "application/vnd.databricks.v1+cell": {
     "cellMetadata": {
      "byteLimit": 2048000,
      "rowLimit": 10000
     },
     "inputWidgets": {},
     "nuid": "881fba84-5cdb-4fbe-bc67-d75f7a084261",
     "showTitle": false,
     "tableResultSettingsMap": {},
     "title": ""
    }
   },
   "outputs": [
    {
     "output_type": "stream",
     "name": "stdout",
     "output_type": "stream",
     "text": [
      "+--------------------+----------+---------+------+--------+---------+-------------+---------+----------+----------+------------+--------+----------------+-------+---------------+------------+\n|   reportedTimestamp| eventDate|eventTime| shape|duration|witnesses|      weather|firstName|  lastName|  latitude|   longitude|sighting|physicalEvidence|contact|researchOutcome|HourOccurred|\n+--------------------+----------+---------+------+--------+---------+-------------+---------+----------+----------+------------+--------+----------------+-------+---------------+------------+\n|1977-04-04T04:02:...|1977-03-31|    23:46|circle|       4|        1|         rain|      Ila| Bashirian|47.3294444|-122.5788889|       Y|               N|      N|      explained|        null|\n|1982-11-22T02:06:...|1982-11-15|    22:04|  disk|       4|        1|partly cloudy| Eriberto|Runolfsson| 52.664913|   -1.034894|       Y|               Y|      N|      explained|        null|\n|1992-12-07T19:06:...|1992-12-07|    19:01|circle|      49|        1|        clear|   Miller|   Watsica|38.9516667| -92.3338889|       Y|               N|      N|      explained|        null|\n|2011-02-24T21:06:...|2011-02-21|    20:56|  disk|      13|        1|partly cloudy|  Clifton| Bechtelar|41.4969444| -71.3677778|       Y|               N|      N|      explained|        null|\n|1991-03-09T16:18:...|1991-03-09|    11:42|circle|      17|        1|mostly cloudy|    Jayda|     Ebert|47.6063889|-122.3308333|       Y|               N|      N|      explained|        null|\n+--------------------+----------+---------+------+--------+---------+-------------+---------+----------+----------+------------+--------+----------------+-------+---------------+------------+\nonly showing top 5 rows\n\n"
     ]
    }
   ],
   "source": [
    "from pyspark.sql.functions import hour, to_timestamp\n",
    "\n",
    "#remove rows missing 'eventTime'\n",
    "ufo_truth_clean = ufo_truth_df.dropna(subset=['eventTime'])\n",
    "\n",
    "#turn 'eventTime' into a time and extract the hour\n",
    "ufo_truth_clean = ufo_truth_clean.withColumn(\"HourOccurred\", hour(to_timestamp(\"eventTime\", \"HH:mm:ss\")))\n",
    "\n",
    "#peek at the cleaned data\n",
    "ufo_truth_clean.show(5)"
   ]
  },
  {
   "cell_type": "markdown",
   "metadata": {
    "application/vnd.databricks.v1+cell": {
     "cellMetadata": {
      "byteLimit": 2048000,
      "rowLimit": 10000
     },
     "inputWidgets": {},
     "nuid": "628bed70-338a-4ef1-a89d-6cbc885504cd",
     "showTitle": false,
     "tableResultSettingsMap": {},
     "title": ""
    }
   },
   "source": [
    "# Joining the Two Tables\n",
    "**Joining**  \n",
    "We are merging two lists of UFO reports, datasets to get the full story. \n",
    "\n",
    "# The Truth Is Out There!\n",
    "We’ll combine our __DataFrames__ using a shared column—here, `shape` (e.g., \"circle\" or \"triangle\"). This is called a **join**, and we’ll use an **inner join**, which keeps only rows where the `shape` matches in both tables. It’s like pairing up things.\n"
   ]
  },
  {
   "cell_type": "code",
   "execution_count": 0,
   "metadata": {
    "application/vnd.databricks.v1+cell": {
     "cellMetadata": {
      "byteLimit": 2048000,
      "rowLimit": 10000
     },
     "inputWidgets": {},
     "nuid": "3f147f32-2315-477e-8706-497fa963527b",
     "showTitle": false,
     "tableResultSettingsMap": {},
     "title": ""
    }
   },
   "outputs": [
    {
     "output_type": "stream",
     "name": "stdout",
     "output_type": "stream",
     "text": [
      "+----------------+--------------------+-----+-------+------+------------------+--------------------+--------------------+-----------+--------+----------+----------------+--------------------+----------+---------+------+--------+---------+-------------+---------+-----------+----------+------------+--------+----------------+-------+---------------+------------+\n|        datetime|                city|state|country| shape|duration (seconds)|duration (hours/min)|            comments|date posted|latitude|longitude |duration_seconds|   reportedTimestamp| eventDate|eventTime| shape|duration|witnesses|      weather|firstName|   lastName|  latitude|   longitude|sighting|physicalEvidence|contact|researchOutcome|HourOccurred|\n+----------------+--------------------+-----+-------+------+------------------+--------------------+--------------------+-----------+--------+----------+----------------+--------------------+----------+---------+------+--------+---------+-------------+---------+-----------+----------+------------+--------+----------------+-------+---------------+------------+\n|10/10/1955 17:00|chester (uk/england)| null|     gb|circle|                20|          20 seconds|Green/Orange circ...|  1/21/2008|    53.2| -2.916667|            20.0|2008-11-28T02:19:...|2008-11-27|    15:37|circle|      38|       10|         snow|      Lia|Oberbrunner|29.8830556| -97.9411111|       Y|               N|      N|      explained|        null|\n|10/10/1955 17:00|chester (uk/england)| null|     gb|circle|                20|          20 seconds|Green/Orange circ...|  1/21/2008|    53.2| -2.916667|            20.0|1977-03-10T13:48:...|1977-03-06|    21:59|circle|      39|       10|partly cloudy|    Judah|      Purdy|36.8663889| -83.8888889|       Y|               N|      N|      explained|        null|\n|10/10/1955 17:00|chester (uk/england)| null|     gb|circle|                20|          20 seconds|Green/Orange circ...|  1/21/2008|    53.2| -2.916667|            20.0|2016-09-20T23:24:...|2016-09-14|    13:27|circle|      55|       10|       stormy|   Derick|     Pouros|43.0044444| -71.3488889|       Y|               N|      N|      explained|        null|\n|10/10/1955 17:00|chester (uk/england)| null|     gb|circle|                20|          20 seconds|Green/Orange circ...|  1/21/2008|    53.2| -2.916667|            20.0|1997-09-29T08:13:...|1997-09-24|    21:41|circle|      77|       10|         snow|  Brielle|     Corwin|21.4180556|-157.8036111|       Y|               N|      N|      explained|        null|\n|10/10/1955 17:00|chester (uk/england)| null|     gb|circle|                20|          20 seconds|Green/Orange circ...|  1/21/2008|    53.2| -2.916667|            20.0|1986-07-03T21:38:...|1986-06-30|    14:09|circle|      23|       10|mostly cloudy|  Kathryn|     Jacobi|-37.813938|  144.963425|       Y|               Y|      Y|      explained|        null|\n+----------------+--------------------+-----+-------+------+------------------+--------------------+--------------------+-----------+--------+----------+----------------+--------------------+----------+---------+------+--------+---------+-------------+---------+-----------+----------+------------+--------+----------------+-------+---------------+------------+\nonly showing top 5 rows\n\n"
     ]
    }
   ],
   "source": [
    "# join the cleaned dataframes on 'shape'\n",
    "joined_df = ufo_sightings_clean.join(ufo_truth_clean, ufo_sightings_clean.shape == ufo_truth_clean.shape, \"inner\")\n",
    "\n",
    "# show the first 5 rows\n",
    "joined_df.show(5)"
   ]
  },
  {
   "cell_type": "markdown",
   "metadata": {
    "application/vnd.databricks.v1+cell": {
     "cellMetadata": {
      "byteLimit": 2048000,
      "rowLimit": 10000
     },
     "inputWidgets": {},
     "nuid": "fc80e8d6-acbf-4323-81fd-ffb5d2afe678",
     "showTitle": false,
     "tableResultSettingsMap": {},
     "title": ""
    }
   },
   "source": [
    "# How Common Are UFO Shapes?\n",
    "**We want the TRUTH!**  \n",
    "We’ll count how many times each UFO shape appears in our joined data. Lets see how many types of UFO/UAP is out there!\n",
    "\n",
    "**What are we doing here?**  \n",
    "This shows us which shapes are most popular, giving us a starting point for understanding UFO trends.\n"
   ]
  },
  {
   "cell_type": "code",
   "execution_count": 0,
   "metadata": {
    "application/vnd.databricks.v1+cell": {
     "cellMetadata": {
      "byteLimit": 2048000,
      "rowLimit": 10000
     },
     "inputWidgets": {},
     "nuid": "5e07ac30-5c9c-43d1-99b5-7a39ba09cac8",
     "showTitle": false,
     "tableResultSettingsMap": {},
     "title": ""
    }
   },
   "outputs": [
    {
     "output_type": "stream",
     "name": "stdout",
     "output_type": "stream",
     "text": [
      "+--------+--------+\n|   Shape|   count|\n+--------+--------+\n|  circle|40617699|\n|    disk|26503840|\n|   light|24852972|\n|triangle| 7474356|\n|  sphere| 4826640|\n|    oval|  653715|\n| pyramid|     189|\n+--------+--------+\n\n"
     ]
    }
   ],
   "source": [
    "from pyspark.sql.functions import count\n",
    "\n",
    "#count each shape in the joined data\n",
    "shapes_count = joined_df.groupBy(ufo_sightings_clean.shape.alias(\"Shape\"))\\\n",
    "                        .agg(count(\"*\").alias(\"count\"))\\\n",
    "                        .orderBy(\"Count\", ascending=False)\n",
    "\n",
    "# Show the results\n",
    "shapes_count.show()"
   ]
  },
  {
   "cell_type": "markdown",
   "metadata": {
    "application/vnd.databricks.v1+cell": {
     "cellMetadata": {},
     "inputWidgets": {},
     "nuid": "569b051e-8e67-41d8-b8d2-5911abf605be",
     "showTitle": false,
     "tableResultSettingsMap": {},
     "title": ""
    }
   },
   "source": [
    "\n",
    "# Nighttime Sightings \n",
    "\n",
    "**What We’re Doing**   \n",
    "\n",
    "We’ll check which shapes are seen at night (after 8 PM) by filtering our data and counting them. It’s like asking, “Do some UFOs prefer the dark?”  \n",
    "\n",
    " \n",
    "\n",
    "**Why This?**   \n",
    "\n",
    "This could reveal patterns, like if \"triangles\" show up more at night.  \n",
    "\n",
    " \n",
    "\n",
    "## Filter for Night Events: \n",
    "\n",
    "The first line selects only those UFO events that occurred at or after 8 PM (i.e. where HourOccurred is 20 or above). "
   ]
  },
  {
   "cell_type": "code",
   "execution_count": 0,
   "metadata": {
    "application/vnd.databricks.v1+cell": {
     "cellMetadata": {},
     "inputWidgets": {},
     "nuid": "ad926809-6ab1-4b3c-8980-60cb3f5d99fd",
     "showTitle": false,
     "tableResultSettingsMap": {},
     "title": ""
    }
   },
   "outputs": [],
   "source": []
  },
  {
   "cell_type": "code",
   "execution_count": 0,
   "metadata": {
    "application/vnd.databricks.v1+cell": {
     "cellMetadata": {
      "byteLimit": 2048000,
      "rowLimit": 10000
     },
     "inputWidgets": {},
     "nuid": "cda4edba-9a2e-4a68-942f-3b0ddcd859eb",
     "showTitle": false,
     "tableResultSettingsMap": {},
     "title": ""
    }
   },
   "outputs": [
    {
     "output_type": "stream",
     "name": "stdout",
     "output_type": "stream",
     "text": [
      "+-----+----------+\n|shape|NightCount|\n+-----+----------+\n+-----+----------+\n\n"
     ]
    }
   ],
   "source": [
    "\n",
    "# filter for events at 8pm or laters\n",
    "night_events = ufo_truth_clean.filter(ufo_truth_clean.HourOccurred >= 20)\n",
    "\n",
    "# count shapes at night\n",
    "night_events_count = night_events.groupBy(\"shape\")\\\n",
    "                                 .agg(count(\"*\").alias(\"NightCount\"))\\\n",
    "                                 .orderBy(\"NightCount\", ascending = False)\n",
    "\n",
    "# show the results\n",
    "night_events_count.show()"
   ]
  },
  {
   "cell_type": "markdown",
   "metadata": {
    "application/vnd.databricks.v1+cell": {
     "cellMetadata": {},
     "inputWidgets": {},
     "nuid": "3d4d55a7-f07f-4a53-bc88-3933b5183668",
     "showTitle": false,
     "tableResultSettingsMap": {},
     "title": ""
    }
   },
   "source": [
    "\n",
    "The first line filters the ufo_truth_clean DataFrame to retain only those rows where the event occurred at 8 PM or later (where HourOccurred is 20 or above). "
   ]
  },
  {
   "cell_type": "code",
   "execution_count": 0,
   "metadata": {
    "application/vnd.databricks.v1+cell": {
     "cellMetadata": {
      "byteLimit": 2048000,
      "rowLimit": 10000
     },
     "inputWidgets": {},
     "nuid": "03c761c8-3a85-4d04-a500-cbb8d7f69e81",
     "showTitle": false,
     "tableResultSettingsMap": {},
     "title": ""
    }
   },
   "outputs": [
    {
     "output_type": "stream",
     "name": "stdout",
     "output_type": "stream",
     "text": [
      "+-----------------+---------+---------+-----+--------+---------+-------+---------+--------+--------+---------+--------+----------------+-------+---------------+------------+\n|reportedTimestamp|eventDate|eventTime|shape|duration|witnesses|weather|firstName|lastName|latitude|longitude|sighting|physicalEvidence|contact|researchOutcome|HourOccurred|\n+-----------------+---------+---------+-----+--------+---------+-------+---------+--------+--------+---------+--------+----------------+-------+---------------+------------+\n+-----------------+---------+---------+-----+--------+---------+-------+---------+--------+--------+---------+--------+----------------+-------+---------------+------------+\n\n"
     ]
    }
   ],
   "source": [
    "# check filtered events at or after 8pm\n",
    "night_events = ufo_truth_clean.filter(ufo_truth_clean.HourOccurred >= 20)\n",
    "\n",
    "night_events.show(5)"
   ]
  },
  {
   "cell_type": "markdown",
   "metadata": {
    "application/vnd.databricks.v1+cell": {
     "cellMetadata": {},
     "inputWidgets": {},
     "nuid": "4559028c-8c3e-498f-8fd8-f6e9e0750d5f",
     "showTitle": false,
     "tableResultSettingsMap": {},
     "title": ""
    }
   },
   "source": [
    "\n",
    "# Lets investigate a problem here, where we are not returning data! \n",
    "\n",
    "### Lets look at the time column and see what is going on. "
   ]
  },
  {
   "cell_type": "code",
   "execution_count": 0,
   "metadata": {
    "application/vnd.databricks.v1+cell": {
     "cellMetadata": {
      "byteLimit": 2048000,
      "rowLimit": 10000
     },
     "inputWidgets": {},
     "nuid": "0fcbe12b-1ab2-4aa3-98da-12d102481a28",
     "showTitle": false,
     "tableResultSettingsMap": {},
     "title": ""
    }
   },
   "outputs": [
    {
     "output_type": "stream",
     "name": "stdout",
     "output_type": "stream",
     "text": [
      "+---------+------------+\n|eventTime|HourOccurred|\n+---------+------------+\n|    23:46|        null|\n|    22:04|        null|\n|    19:01|        null|\n|    20:56|        null|\n|    11:42|        null|\n+---------+------------+\nonly showing top 5 rows\n\n"
     ]
    }
   ],
   "source": [
    "# inspect eventTime and HourOccurred columns\n",
    "ufo_truth_clean.select(\"eventTime\", \"HourOccurred\").show(5)"
   ]
  },
  {
   "cell_type": "markdown",
   "metadata": {
    "application/vnd.databricks.v1+cell": {
     "cellMetadata": {},
     "inputWidgets": {},
     "nuid": "74b1cbdc-7e93-4c4b-bfec-fdf9511f15b7",
     "showTitle": false,
     "tableResultSettingsMap": {},
     "title": ""
    }
   },
   "source": [
    "\n",
    "From Above the HourOccurred column is null. To extract the hour from eventTime failed. This happens when the format in the to_timestamp() function does not match your actual data. "
   ]
  },
  {
   "cell_type": "code",
   "execution_count": 0,
   "metadata": {
    "application/vnd.databricks.v1+cell": {
     "cellMetadata": {
      "byteLimit": 2048000,
      "rowLimit": 10000
     },
     "inputWidgets": {},
     "nuid": "1796f701-ed66-44e3-a63e-2bd26537cb62",
     "showTitle": false,
     "tableResultSettingsMap": {},
     "title": ""
    }
   },
   "outputs": [
    {
     "output_type": "stream",
     "name": "stdout",
     "output_type": "stream",
     "text": [
      "+------------+-----+\n|HourOccurred|count|\n+------------+-----+\n|        null|18000|\n+------------+-----+\n\n"
     ]
    }
   ],
   "source": [
    "ufo_truth_clean.groupBy(\"HourOccurred\").count().orderBy(\"HourOccurred\").show()"
   ]
  },
  {
   "cell_type": "markdown",
   "metadata": {
    "application/vnd.databricks.v1+cell": {
     "cellMetadata": {},
     "inputWidgets": {},
     "nuid": "f049f247-eb31-4e40-9fca-f47c306d47de",
     "showTitle": false,
     "tableResultSettingsMap": {},
     "title": ""
    }
   },
   "source": [
    "\n",
    "The parameter truncate=False ensures that the full content of the column is shown without shortening any text. It displays the complete time values (like \"23:46\") "
   ]
  },
  {
   "cell_type": "code",
   "execution_count": 0,
   "metadata": {
    "application/vnd.databricks.v1+cell": {
     "cellMetadata": {
      "byteLimit": 2048000,
      "rowLimit": 10000
     },
     "inputWidgets": {},
     "nuid": "41e36a1c-7a58-4f5b-8811-22c7727c15c6",
     "showTitle": false,
     "tableResultSettingsMap": {},
     "title": ""
    }
   },
   "outputs": [
    {
     "output_type": "stream",
     "name": "stdout",
     "output_type": "stream",
     "text": [
      "+---------+\n|eventTime|\n+---------+\n|23:46    |\n|22:04    |\n|19:01    |\n|20:56    |\n|11:42    |\n+---------+\nonly showing top 5 rows\n\n"
     ]
    }
   ],
   "source": [
    "#show the full value here of the column\n",
    "ufo_truth_clean.select(\"eventTime\").show(5, truncate = False)"
   ]
  },
  {
   "cell_type": "markdown",
   "metadata": {
    "application/vnd.databricks.v1+cell": {
     "cellMetadata": {},
     "inputWidgets": {},
     "nuid": "dfed4052-ac7c-436d-86ea-2c1e1fd51ac7",
     "showTitle": false,
     "tableResultSettingsMap": {},
     "title": ""
    }
   },
   "source": [
    "\n",
    "# Which Cell was the culprit?? Which cell did we get wrong? \n",
    "\n",
    " \n",
    "\n",
    "## Fixing the time Stamp \n",
    "\n",
    "withColumn(\"HourOccurred\", hour(to_timestamp(\"eventTime\", \"HH:mm\"))) \n",
    "\n",
    "This takes the \"eventTime\" column, converts its string values (like \"23:46\") into timestamp values using the \"HH:mm\" format, then extracts the hour (e.g. 23) and creates a new column \"HourOccurred\" with these integer values. \n",
    "\n",
    "\n",
    "## (IT WAS CELL 10)"
   ]
  },
  {
   "cell_type": "code",
   "execution_count": 0,
   "metadata": {
    "application/vnd.databricks.v1+cell": {
     "cellMetadata": {
      "byteLimit": 2048000,
      "rowLimit": 10000
     },
     "inputWidgets": {},
     "nuid": "ff6f9afe-a943-4f97-a7a0-fd88191429ef",
     "showTitle": false,
     "tableResultSettingsMap": {},
     "title": ""
    }
   },
   "outputs": [
    {
     "output_type": "stream",
     "name": "stdout",
     "output_type": "stream",
     "text": [
      "+---------+------------+\n|eventTime|HourOccurred|\n+---------+------------+\n|23:46    |23          |\n|22:04    |22          |\n|19:01    |19          |\n|20:56    |20          |\n|11:42    |11          |\n+---------+------------+\nonly showing top 5 rows\n\n"
     ]
    }
   ],
   "source": [
    "# adjust eventTime to a timestamp using the \"HH:mm\" format\n",
    "from pyspark.sql.functions import hour, to_timestamp\n",
    "\n",
    "ufo_truth_clean = ufo_truth_clean.withColumn(\"HourOccurred\", hour(to_timestamp(\"eventTime\", \"HH:mm\")))\n",
    "\n",
    "#verify\n",
    "ufo_truth_clean.select(\"eventTime\", \"HourOccurred\").show(5, truncate = False)"
   ]
  },
  {
   "cell_type": "code",
   "execution_count": 0,
   "metadata": {
    "application/vnd.databricks.v1+cell": {
     "cellMetadata": {
      "byteLimit": 2048000,
      "rowLimit": 10000
     },
     "inputWidgets": {},
     "nuid": "4bb49a04-d5ff-46ab-8b11-cd73eaba0cf7",
     "showTitle": false,
     "tableResultSettingsMap": {},
     "title": ""
    }
   },
   "outputs": [
    {
     "output_type": "stream",
     "name": "stdout",
     "output_type": "stream",
     "text": [
      "+--------+----------+\n|   shape|NightCount|\n+--------+----------+\n|    disk|      1030|\n|  circle|       977|\n|   light|       293|\n|  square|       291|\n|  sphere|       173|\n|triangle|       172|\n|     box|        39|\n|    oval|        33|\n| pyramid|        25|\n|    null|         1|\n+--------+----------+\n\n"
     ]
    },
    {
     "output_type": "display_data",
     "data": {
      "text/html": [
       "<style scoped>\n",
       "  .table-result-container {\n",
       "    max-height: 300px;\n",
       "    overflow: auto;\n",
       "  }\n",
       "  table, th, td {\n",
       "    border: 1px solid black;\n",
       "    border-collapse: collapse;\n",
       "  }\n",
       "  th, td {\n",
       "    padding: 5px;\n",
       "  }\n",
       "  th {\n",
       "    text-align: left;\n",
       "  }\n",
       "</style><div class='table-result-container'><table class='table-result'><thead style='background-color: white'><tr><th>shape</th><th>NightCount</th></tr></thead><tbody><tr><td>disk</td><td>1030</td></tr><tr><td>circle</td><td>977</td></tr><tr><td>light</td><td>293</td></tr><tr><td>square</td><td>291</td></tr><tr><td>sphere</td><td>173</td></tr><tr><td>triangle</td><td>172</td></tr><tr><td>box</td><td>39</td></tr><tr><td>oval</td><td>33</td></tr><tr><td>pyramid</td><td>25</td></tr><tr><td>null</td><td>1</td></tr></tbody></table></div>"
      ]
     },
     "metadata": {
      "application/vnd.databricks.v1+output": {
       "addedWidgets": {},
       "aggData": [],
       "aggError": "",
       "aggOverflow": false,
       "aggSchema": [],
       "aggSeriesLimitReached": false,
       "aggType": "",
       "arguments": {},
       "columnCustomDisplayInfos": {},
       "data": [
        [
         "disk",
         1030
        ],
        [
         "circle",
         977
        ],
        [
         "light",
         293
        ],
        [
         "square",
         291
        ],
        [
         "sphere",
         173
        ],
        [
         "triangle",
         172
        ],
        [
         "box",
         39
        ],
        [
         "oval",
         33
        ],
        [
         "pyramid",
         25
        ],
        [
         null,
         1
        ]
       ],
       "datasetInfos": [],
       "dbfsResultPath": null,
       "isJsonSchema": true,
       "metadata": {},
       "overflow": false,
       "plotOptions": {
        "customPlotOptions": {},
        "displayType": "table",
        "pivotAggregation": null,
        "pivotColumns": null,
        "xColumns": null,
        "yColumns": null
       },
       "removedWidgets": [],
       "schema": [
        {
         "metadata": "{}",
         "name": "shape",
         "type": "\"string\""
        },
        {
         "metadata": "{}",
         "name": "NightCount",
         "type": "\"long\""
        }
       ],
       "type": "table"
      }
     },
     "output_type": "display_data"
    },
    {
     "output_type": "display_data",
     "data": {
      "text/plain": [
       "Databricks visualization. Run in Databricks to view."
      ]
     },
     "metadata": {
      "application/vnd.databricks.v1.subcommand+json": {
       "baseErrorDetails": null,
       "bindings": {},
       "collapsed": false,
       "command": "%python\n__backend_agg_display_orig = display\n__backend_agg_dfs = []\ndef __backend_agg_display_new(df):\n    __backend_agg_df_modules = [\"pandas.core.frame\", \"databricks.koalas.frame\", \"pyspark.sql.dataframe\", \"pyspark.pandas.frame\", \"pyspark.sql.connect.dataframe\"]\n    if (type(df).__module__ in __backend_agg_df_modules and type(df).__name__ == 'DataFrame') or isinstance(df, list):\n        __backend_agg_dfs.append(df)\n\ndisplay = __backend_agg_display_new\n\ndef __backend_agg_user_code_fn():\n    import base64\n    exec(base64.standard_b64decode(\"IyBjZWxsOiBhbmFseXNlIGFuZCBjb3VudCBuaWdodHRpbWUgVUZPIGV2ZW50cwoKIyBmaWx0ZXIgdGhlIGRhdGEgZm9yIGV2ZW50cyBhdCBvciBhZnRlciA4cG0KbmlnaHRfZXZlbnRzID0gdWZvX3RydXRoX2NsZWFuLmZpbHRlcih1Zm9fdHJ1dGhfY2xlYW4uSG91ck9jY3VycmVkID49IDIwKQoKIyBncm91cCBieSB0aGUgJ3NoYXBlJyBjb2x1bW4gYW5kIGNvdW50IHRoZSBudW1iZXIgb2YgbmlnaHR0aW1lIGV2ZW50cyAKbmlnaHRfZXZlbnRzX2NvdW50ID0gbmlnaHRfZXZlbnRzLmdyb3VwQnkoInNoYXBlIilcCiAgICAgICAgICAgICAgICAgICAgICAgICAgICAgICAgIC5hZ2coY291bnQoIioiKS5hbGlhcygiTmlnaHRDb3VudCIpKVwKICAgICAgICAgICAgICAgICAgICAgICAgICAgICAgICAgLm9yZGVyQnkoIk5pZ2h0Q291bnQiLCBhc2NlbmRpbmcgPSBGYWxzZSkKCm5pZ2h0X2V2ZW50c19jb3VudC5zaG93KCkKCmRpc3BsYXkobmlnaHRfZXZlbnRzX2NvdW50KQ==\").decode())\n\ntry:\n    # run user code\n    __backend_agg_user_code_fn()\n\n    #reset display function\n    display = __backend_agg_display_orig\n\n    if len(__backend_agg_dfs) > 0:\n        # create a temp view\n        if type(__backend_agg_dfs[0]).__module__ == \"databricks.koalas.frame\":\n            # koalas dataframe\n            __backend_agg_dfs[0].to_spark().createOrReplaceTempView(\"DatabricksViewce74ccc\")\n        elif type(__backend_agg_dfs[0]).__module__ == \"pandas.core.frame\" or isinstance(__backend_agg_dfs[0], list):\n            # pandas dataframe\n            spark.createDataFrame(__backend_agg_dfs[0]).createOrReplaceTempView(\"DatabricksViewce74ccc\")\n        else:\n            __backend_agg_dfs[0].createOrReplaceTempView(\"DatabricksViewce74ccc\")\n        #run backend agg\n        display(spark.sql(\"\"\"WITH q AS (select * from DatabricksViewce74ccc) SELECT `shape`,SUM(`NightCount`) `column_4b5ac53443` FROM q GROUP BY `shape`\"\"\"))\n    else:\n        displayHTML(\"dataframe no longer exists. If you're using dataframe.display(), use display(dataframe) instead.\")\n\n\nfinally:\n    spark.sql(\"drop view if exists DatabricksViewce74ccc\")\n    display = __backend_agg_display_orig\n    del __backend_agg_display_new\n    del __backend_agg_display_orig\n    del __backend_agg_dfs\n    del __backend_agg_user_code_fn\n\n",
       "commandTitle": "Visualization 1",
       "commandType": "auto",
       "commandVersion": 0,
       "commentThread": [],
       "commentsVisible": false,
       "contentSha256Hex": null,
       "customPlotOptions": {
        "redashChart": [
         {
          "key": "type",
          "value": "CHART"
         },
         {
          "key": "options",
          "value": {
           "alignYAxesAtZero": true,
           "coefficient": 1,
           "columnConfigurationMap": {
            "x": {
             "column": "shape",
             "id": "column_4b5ac53442"
            },
            "y": [
             {
              "column": "NightCount",
              "id": "column_4b5ac53443",
              "transform": "SUM"
             }
            ]
           },
           "dateTimeFormat": "DD/MM/YYYY HH:mm",
           "direction": {
            "type": "counterclockwise"
           },
           "error_y": {
            "type": "data",
            "visible": true
           },
           "globalSeriesType": "pie",
           "legend": {
            "traceorder": "normal"
           },
           "missingValuesAsZero": true,
           "numberFormat": "0,0.[00000]",
           "percentFormat": "0[.]00%",
           "series": {
            "error_y": {
             "type": "data",
             "visible": true
            },
            "stacking": null
           },
           "seriesOptions": {
            "column_4b5ac53443": {
             "name": "NightCount",
             "type": "pie",
             "yAxis": 0
            }
           },
           "showDataLabels": true,
           "sizemode": "diameter",
           "sortX": true,
           "sortY": true,
           "swappedAxes": false,
           "textFormat": "",
           "useAggregationsUi": true,
           "valuesOptions": {},
           "version": 2,
           "xAxis": {
            "labels": {
             "enabled": true
            },
            "type": "-"
           },
           "yAxis": [
            {
             "type": "-"
            },
            {
             "opposite": true,
             "type": "-"
            }
           ]
          }
         }
        ]
       },
       "datasetPreviewNameToCmdIdMap": {},
       "diffDeletes": [],
       "diffInserts": [],
       "displayType": "redashChart",
       "error": null,
       "errorDetails": null,
       "errorSummary": null,
       "errorTraceType": null,
       "finishTime": 0,
       "globalVars": {},
       "guid": "",
       "height": "auto",
       "hideCommandCode": false,
       "hideCommandResult": false,
       "iPythonMetadata": null,
       "inputWidgets": {},
       "isLockedInExamMode": false,
       "latestUser": "a user",
       "latestUserId": null,
       "listResultMetadata": null,
       "metadata": {},
       "nuid": "71df1744-d6bb-4805-88fa-7ec5beeee21e",
       "origId": 0,
       "parentHierarchy": [],
       "pivotAggregation": null,
       "pivotColumns": null,
       "position": 27.0,
       "resultDbfsErrorMessage": null,
       "resultDbfsStatus": "INLINED_IN_TREE",
       "results": null,
       "showCommandTitle": false,
       "startTime": 0,
       "state": "input",
       "streamStates": {},
       "subcommandOptions": {
        "queryPlan": {
         "groups": [
          {
           "column": "shape",
           "type": "column"
          }
         ],
         "selects": [
          {
           "column": "shape",
           "type": "column"
          },
          {
           "alias": "column_4b5ac53443",
           "args": [
            {
             "column": "NightCount",
             "type": "column"
            }
           ],
           "function": "SUM",
           "type": "function"
          }
         ]
        }
       },
       "submitTime": 0,
       "subtype": "tableResultSubCmd.visualization",
       "tableResultIndex": 0,
       "tableResultSettingsMap": {},
       "useConsistentColors": false,
       "version": "CommandV1",
       "width": "auto",
       "workflows": [],
       "xColumns": null,
       "yColumns": null
      }
     },
     "output_type": "display_data"
    }
   ],
   "source": [
    "# cell: analyse and count nighttime UFO events\n",
    "\n",
    "# filter the data for events at or after 8pm\n",
    "night_events = ufo_truth_clean.filter(ufo_truth_clean.HourOccurred >= 20)\n",
    "\n",
    "# group by the 'shape' column and count the number of nighttime events \n",
    "night_events_count = night_events.groupBy(\"shape\")\\\n",
    "                                 .agg(count(\"*\").alias(\"NightCount\"))\\\n",
    "                                 .orderBy(\"NightCount\", ascending = False)\n",
    "\n",
    "night_events_count.show()\n",
    "\n",
    "display(night_events_count)"
   ]
  },
  {
   "cell_type": "markdown",
   "metadata": {
    "application/vnd.databricks.v1+cell": {
     "cellMetadata": {},
     "inputWidgets": {},
     "nuid": "7c931127-d39a-472e-80ed-6f4dd4db95cd",
     "showTitle": false,
     "tableResultSettingsMap": {},
     "title": ""
    }
   },
   "source": [
    "\n",
    "# Making Visualisations   \n",
    "\n",
    "We will make __visualisations__ using the Databricks 'display()' fucntion \n",
    "\n",
    " \n",
    "\n",
    "- X-Axis: Choose the column that represents the category (e.g., shape). \n",
    "\n",
    "- Y-Axis: Choose the column that represents the numerical value (e.g., NightCount). \n",
    "\n",
    "- Other Options: You may have options like sorting or adding labels—configure these as desired. "
   ]
  },
  {
   "cell_type": "code",
   "execution_count": 0,
   "metadata": {
    "application/vnd.databricks.v1+cell": {
     "cellMetadata": {
      "byteLimit": 2048000,
      "rowLimit": 10000
     },
     "inputWidgets": {},
     "nuid": "3aa2fc5f-6495-40a9-abdb-1de55eb6ce4c",
     "showTitle": false,
     "tableResultSettingsMap": {},
     "title": ""
    }
   },
   "outputs": [
    {
     "output_type": "display_data",
     "data": {
      "text/html": [
       "<style scoped>\n",
       "  .table-result-container {\n",
       "    max-height: 300px;\n",
       "    overflow: auto;\n",
       "  }\n",
       "  table, th, td {\n",
       "    border: 1px solid black;\n",
       "    border-collapse: collapse;\n",
       "  }\n",
       "  th, td {\n",
       "    padding: 5px;\n",
       "  }\n",
       "  th {\n",
       "    text-align: left;\n",
       "  }\n",
       "</style><div class='table-result-container'><table class='table-result'><thead style='background-color: white'><tr><th>Shape</th><th>count</th></tr></thead><tbody><tr><td>circle</td><td>40617699</td></tr><tr><td>disk</td><td>26503840</td></tr><tr><td>light</td><td>24852972</td></tr><tr><td>triangle</td><td>7474356</td></tr><tr><td>sphere</td><td>4826640</td></tr><tr><td>oval</td><td>653715</td></tr><tr><td>pyramid</td><td>189</td></tr></tbody></table></div>"
      ]
     },
     "metadata": {
      "application/vnd.databricks.v1+output": {
       "addedWidgets": {},
       "aggData": [],
       "aggError": "",
       "aggOverflow": false,
       "aggSchema": [],
       "aggSeriesLimitReached": false,
       "aggType": "",
       "arguments": {},
       "columnCustomDisplayInfos": {},
       "data": [
        [
         "circle",
         40617699
        ],
        [
         "disk",
         26503840
        ],
        [
         "light",
         24852972
        ],
        [
         "triangle",
         7474356
        ],
        [
         "sphere",
         4826640
        ],
        [
         "oval",
         653715
        ],
        [
         "pyramid",
         189
        ]
       ],
       "datasetInfos": [],
       "dbfsResultPath": null,
       "isJsonSchema": true,
       "metadata": {},
       "overflow": false,
       "plotOptions": {
        "customPlotOptions": {},
        "displayType": "table",
        "pivotAggregation": null,
        "pivotColumns": null,
        "xColumns": null,
        "yColumns": null
       },
       "removedWidgets": [],
       "schema": [
        {
         "metadata": "{}",
         "name": "Shape",
         "type": "\"string\""
        },
        {
         "metadata": "{}",
         "name": "count",
         "type": "\"long\""
        }
       ],
       "type": "table"
      }
     },
     "output_type": "display_data"
    },
    {
     "output_type": "display_data",
     "data": {
      "text/plain": [
       "Databricks visualization. Run in Databricks to view."
      ]
     },
     "metadata": {
      "application/vnd.databricks.v1.subcommand+json": {
       "baseErrorDetails": null,
       "bindings": {},
       "collapsed": false,
       "command": "%python\n__backend_agg_display_orig = display\n__backend_agg_dfs = []\ndef __backend_agg_display_new(df):\n    __backend_agg_df_modules = [\"pandas.core.frame\", \"databricks.koalas.frame\", \"pyspark.sql.dataframe\", \"pyspark.pandas.frame\", \"pyspark.sql.connect.dataframe\"]\n    if (type(df).__module__ in __backend_agg_df_modules and type(df).__name__ == 'DataFrame') or isinstance(df, list):\n        __backend_agg_dfs.append(df)\n\ndisplay = __backend_agg_display_new\n\ndef __backend_agg_user_code_fn():\n    import base64\n    exec(base64.standard_b64decode(\"ZGlzcGxheShzaGFwZXNfY291bnQpCgpkaXNwbGF5KG5pZ2h0X2V2ZW50c19jb3VudCk=\").decode())\n\ntry:\n    # run user code\n    __backend_agg_user_code_fn()\n\n    #reset display function\n    display = __backend_agg_display_orig\n\n    if len(__backend_agg_dfs) > 0:\n        # create a temp view\n        if type(__backend_agg_dfs[0]).__module__ == \"databricks.koalas.frame\":\n            # koalas dataframe\n            __backend_agg_dfs[0].to_spark().createOrReplaceTempView(\"DatabricksViewd9a3890\")\n        elif type(__backend_agg_dfs[0]).__module__ == \"pandas.core.frame\" or isinstance(__backend_agg_dfs[0], list):\n            # pandas dataframe\n            spark.createDataFrame(__backend_agg_dfs[0]).createOrReplaceTempView(\"DatabricksViewd9a3890\")\n        else:\n            __backend_agg_dfs[0].createOrReplaceTempView(\"DatabricksViewd9a3890\")\n        #run backend agg\n        display(spark.sql(\"\"\"WITH q AS (select * from DatabricksViewd9a3890) SELECT `Shape`,SUM(`count`) `column_4b5ac53449` FROM q GROUP BY `Shape`\"\"\"))\n    else:\n        displayHTML(\"dataframe no longer exists. If you're using dataframe.display(), use display(dataframe) instead.\")\n\n\nfinally:\n    spark.sql(\"drop view if exists DatabricksViewd9a3890\")\n    display = __backend_agg_display_orig\n    del __backend_agg_display_new\n    del __backend_agg_display_orig\n    del __backend_agg_dfs\n    del __backend_agg_user_code_fn\n\n",
       "commandTitle": "Visualization 1",
       "commandType": "auto",
       "commandVersion": 0,
       "commentThread": [],
       "commentsVisible": false,
       "contentSha256Hex": null,
       "customPlotOptions": {
        "redashChart": [
         {
          "key": "type",
          "value": "CHART"
         },
         {
          "key": "options",
          "value": {
           "alignYAxesAtZero": true,
           "coefficient": 1,
           "columnConfigurationMap": {
            "x": {
             "column": "Shape",
             "id": "column_4b5ac53448"
            },
            "y": [
             {
              "column": "count",
              "id": "column_4b5ac53449",
              "transform": "SUM"
             }
            ]
           },
           "dateTimeFormat": "DD/MM/YYYY HH:mm",
           "direction": {
            "type": "counterclockwise"
           },
           "error_y": {
            "type": "data",
            "visible": true
           },
           "globalSeriesType": "pie",
           "legend": {
            "traceorder": "normal"
           },
           "missingValuesAsZero": true,
           "numberFormat": "0,0.[00000]",
           "percentFormat": "0[.]00%",
           "series": {
            "error_y": {
             "type": "data",
             "visible": true
            },
            "stacking": null
           },
           "seriesOptions": {
            "column_4b5ac53449": {
             "name": "count",
             "type": "pie",
             "yAxis": 0
            }
           },
           "showDataLabels": true,
           "sizemode": "diameter",
           "sortX": true,
           "sortY": true,
           "swappedAxes": false,
           "textFormat": "",
           "useAggregationsUi": true,
           "valuesOptions": {},
           "version": 2,
           "xAxis": {
            "labels": {
             "enabled": true
            },
            "type": "-"
           },
           "yAxis": [
            {
             "type": "-"
            },
            {
             "opposite": true,
             "type": "-"
            }
           ]
          }
         }
        ]
       },
       "datasetPreviewNameToCmdIdMap": {},
       "diffDeletes": [],
       "diffInserts": [],
       "displayType": "redashChart",
       "error": null,
       "errorDetails": null,
       "errorSummary": null,
       "errorTraceType": null,
       "finishTime": 0,
       "globalVars": {},
       "guid": "",
       "height": "auto",
       "hideCommandCode": false,
       "hideCommandResult": false,
       "iPythonMetadata": null,
       "inputWidgets": {},
       "isLockedInExamMode": false,
       "latestUser": "a user",
       "latestUserId": null,
       "listResultMetadata": null,
       "metadata": {},
       "nuid": "1f470102-d1fe-4943-b826-294f568a7537",
       "origId": 0,
       "parentHierarchy": [],
       "pivotAggregation": null,
       "pivotColumns": null,
       "position": 28.5,
       "resultDbfsErrorMessage": null,
       "resultDbfsStatus": "INLINED_IN_TREE",
       "results": null,
       "showCommandTitle": false,
       "startTime": 0,
       "state": "input",
       "streamStates": {},
       "subcommandOptions": {
        "queryPlan": {
         "groups": [
          {
           "column": "Shape",
           "type": "column"
          }
         ],
         "selects": [
          {
           "column": "Shape",
           "type": "column"
          },
          {
           "alias": "column_4b5ac53449",
           "args": [
            {
             "column": "count",
             "type": "column"
            }
           ],
           "function": "SUM",
           "type": "function"
          }
         ]
        }
       },
       "submitTime": 0,
       "subtype": "tableResultSubCmd.visualization",
       "tableResultIndex": 0,
       "tableResultSettingsMap": {},
       "useConsistentColors": false,
       "version": "CommandV1",
       "width": "auto",
       "workflows": [],
       "xColumns": null,
       "yColumns": null
      }
     },
     "output_type": "display_data"
    },
    {
     "output_type": "display_data",
     "data": {
      "text/html": [
       "<style scoped>\n",
       "  .table-result-container {\n",
       "    max-height: 300px;\n",
       "    overflow: auto;\n",
       "  }\n",
       "  table, th, td {\n",
       "    border: 1px solid black;\n",
       "    border-collapse: collapse;\n",
       "  }\n",
       "  th, td {\n",
       "    padding: 5px;\n",
       "  }\n",
       "  th {\n",
       "    text-align: left;\n",
       "  }\n",
       "</style><div class='table-result-container'><table class='table-result'><thead style='background-color: white'><tr><th>shape</th><th>NightCount</th></tr></thead><tbody><tr><td>disk</td><td>1030</td></tr><tr><td>circle</td><td>977</td></tr><tr><td>light</td><td>293</td></tr><tr><td>square</td><td>291</td></tr><tr><td>sphere</td><td>173</td></tr><tr><td>triangle</td><td>172</td></tr><tr><td>box</td><td>39</td></tr><tr><td>oval</td><td>33</td></tr><tr><td>pyramid</td><td>25</td></tr><tr><td>null</td><td>1</td></tr></tbody></table></div>"
      ]
     },
     "metadata": {
      "application/vnd.databricks.v1+output": {
       "addedWidgets": {},
       "aggData": [],
       "aggError": "",
       "aggOverflow": false,
       "aggSchema": [],
       "aggSeriesLimitReached": false,
       "aggType": "",
       "arguments": {},
       "columnCustomDisplayInfos": {},
       "data": [
        [
         "disk",
         1030
        ],
        [
         "circle",
         977
        ],
        [
         "light",
         293
        ],
        [
         "square",
         291
        ],
        [
         "sphere",
         173
        ],
        [
         "triangle",
         172
        ],
        [
         "box",
         39
        ],
        [
         "oval",
         33
        ],
        [
         "pyramid",
         25
        ],
        [
         null,
         1
        ]
       ],
       "datasetInfos": [],
       "dbfsResultPath": null,
       "isJsonSchema": true,
       "metadata": {},
       "overflow": false,
       "plotOptions": {
        "customPlotOptions": {},
        "displayType": "table",
        "pivotAggregation": null,
        "pivotColumns": null,
        "xColumns": null,
        "yColumns": null
       },
       "removedWidgets": [],
       "schema": [
        {
         "metadata": "{}",
         "name": "shape",
         "type": "\"string\""
        },
        {
         "metadata": "{}",
         "name": "NightCount",
         "type": "\"long\""
        }
       ],
       "type": "table"
      }
     },
     "output_type": "display_data"
    },
    {
     "output_type": "display_data",
     "data": {
      "text/plain": [
       "Databricks visualization. Run in Databricks to view."
      ]
     },
     "metadata": {
      "application/vnd.databricks.v1.subcommand+json": {
       "baseErrorDetails": null,
       "bindings": {},
       "collapsed": false,
       "command": "%python\n__backend_agg_display_orig = display\n__backend_agg_dfs = []\ndef __backend_agg_display_new(df):\n    __backend_agg_df_modules = [\"pandas.core.frame\", \"databricks.koalas.frame\", \"pyspark.sql.dataframe\", \"pyspark.pandas.frame\", \"pyspark.sql.connect.dataframe\"]\n    if (type(df).__module__ in __backend_agg_df_modules and type(df).__name__ == 'DataFrame') or isinstance(df, list):\n        __backend_agg_dfs.append(df)\n\ndisplay = __backend_agg_display_new\n\ndef __backend_agg_user_code_fn():\n    import base64\n    exec(base64.standard_b64decode(\"ZGlzcGxheShzaGFwZXNfY291bnQpCgpkaXNwbGF5KG5pZ2h0X2V2ZW50c19jb3VudCk=\").decode())\n\ntry:\n    # run user code\n    __backend_agg_user_code_fn()\n\n    #reset display function\n    display = __backend_agg_display_orig\n\n    if len(__backend_agg_dfs) > 1:\n        # create a temp view\n        if type(__backend_agg_dfs[1]).__module__ == \"databricks.koalas.frame\":\n            # koalas dataframe\n            __backend_agg_dfs[1].to_spark().createOrReplaceTempView(\"DatabricksView08380bd\")\n        elif type(__backend_agg_dfs[1]).__module__ == \"pandas.core.frame\" or isinstance(__backend_agg_dfs[1], list):\n            # pandas dataframe\n            spark.createDataFrame(__backend_agg_dfs[1]).createOrReplaceTempView(\"DatabricksView08380bd\")\n        else:\n            __backend_agg_dfs[1].createOrReplaceTempView(\"DatabricksView08380bd\")\n        #run backend agg\n        display(spark.sql(\"\"\"WITH q AS (select * from DatabricksView08380bd) SELECT `shape`,SUM(`NightCount`) `column_4b5ac53452` FROM q GROUP BY `shape`\"\"\"))\n    else:\n        displayHTML(\"dataframe no longer exists. If you're using dataframe.display(), use display(dataframe) instead.\")\n\n\nfinally:\n    spark.sql(\"drop view if exists DatabricksView08380bd\")\n    display = __backend_agg_display_orig\n    del __backend_agg_display_new\n    del __backend_agg_display_orig\n    del __backend_agg_dfs\n    del __backend_agg_user_code_fn\n\n",
       "commandTitle": "Visualization 1",
       "commandType": "auto",
       "commandVersion": 0,
       "commentThread": [],
       "commentsVisible": false,
       "contentSha256Hex": null,
       "customPlotOptions": {
        "redashChart": [
         {
          "key": "type",
          "value": "CHART"
         },
         {
          "key": "options",
          "value": {
           "alignYAxesAtZero": true,
           "coefficient": 1,
           "columnConfigurationMap": {
            "x": {
             "column": "shape",
             "id": "column_4b5ac53451"
            },
            "y": [
             {
              "column": "NightCount",
              "id": "column_4b5ac53452",
              "transform": "SUM"
             }
            ]
           },
           "dateTimeFormat": "DD/MM/YYYY HH:mm",
           "direction": {
            "type": "counterclockwise"
           },
           "error_y": {
            "type": "data",
            "visible": true
           },
           "globalSeriesType": "pie",
           "legend": {
            "traceorder": "normal"
           },
           "missingValuesAsZero": true,
           "numberFormat": "0,0.[00000]",
           "percentFormat": "0[.]00%",
           "series": {
            "error_y": {
             "type": "data",
             "visible": true
            },
            "stacking": null
           },
           "seriesOptions": {
            "column_4b5ac53452": {
             "name": "NightCount",
             "type": "pie",
             "yAxis": 0
            }
           },
           "showDataLabels": true,
           "sizemode": "diameter",
           "sortX": true,
           "sortY": true,
           "swappedAxes": false,
           "textFormat": "",
           "useAggregationsUi": true,
           "valuesOptions": {},
           "version": 2,
           "xAxis": {
            "labels": {
             "enabled": true
            },
            "type": "-"
           },
           "yAxis": [
            {
             "type": "-"
            },
            {
             "opposite": true,
             "type": "-"
            }
           ]
          }
         }
        ]
       },
       "datasetPreviewNameToCmdIdMap": {},
       "diffDeletes": [],
       "diffInserts": [],
       "displayType": "redashChart",
       "error": null,
       "errorDetails": null,
       "errorSummary": null,
       "errorTraceType": null,
       "finishTime": 0,
       "globalVars": {},
       "guid": "",
       "height": "auto",
       "hideCommandCode": false,
       "hideCommandResult": false,
       "iPythonMetadata": null,
       "inputWidgets": {},
       "isLockedInExamMode": false,
       "latestUser": "a user",
       "latestUserId": null,
       "listResultMetadata": null,
       "metadata": {},
       "nuid": "0c098a09-5a30-450f-b70e-d42b7895a5f7",
       "origId": 0,
       "parentHierarchy": [],
       "pivotAggregation": null,
       "pivotColumns": null,
       "position": 28.5,
       "resultDbfsErrorMessage": null,
       "resultDbfsStatus": "INLINED_IN_TREE",
       "results": null,
       "showCommandTitle": false,
       "startTime": 0,
       "state": "input",
       "streamStates": {},
       "subcommandOptions": {
        "queryPlan": {
         "groups": [
          {
           "column": "shape",
           "type": "column"
          }
         ],
         "selects": [
          {
           "column": "shape",
           "type": "column"
          },
          {
           "alias": "column_4b5ac53452",
           "args": [
            {
             "column": "NightCount",
             "type": "column"
            }
           ],
           "function": "SUM",
           "type": "function"
          }
         ]
        }
       },
       "submitTime": 0,
       "subtype": "tableResultSubCmd.visualization",
       "tableResultIndex": 1,
       "tableResultSettingsMap": {},
       "useConsistentColors": false,
       "version": "CommandV1",
       "width": "auto",
       "workflows": [],
       "xColumns": null,
       "yColumns": null
      }
     },
     "output_type": "display_data"
    }
   ],
   "source": [
    "display(shapes_count)\n",
    "\n",
    "display(night_events_count)"
   ]
  },
  {
   "cell_type": "markdown",
   "metadata": {
    "application/vnd.databricks.v1+cell": {
     "cellMetadata": {},
     "inputWidgets": {},
     "nuid": "8ac8701a-3028-4ea9-a320-bcb9a6fcd058",
     "showTitle": false,
     "tableResultSettingsMap": {},
     "title": ""
    }
   },
   "source": [
    "\n",
    "# Final Check of Clean Data \n",
    "\n",
    "**DataFrame**   \n",
    "\n",
    "Let’s check our work by listing the columns in our cleaned `ufo_sightings_clean` DataFrame. Like a final inspection to make sure everything’s as expected. \n",
    "\n",
    " \n",
    "\n",
    "**What for?**   \n",
    "\n",
    "It confirms we’ve added the right columns (like `duration_seconds`). "
   ]
  }
 ],
 "metadata": {
  "application/vnd.databricks.v1+notebook": {
   "computePreferences": null,
   "dashboards": [],
   "environmentMetadata": {
    "base_environment": "",
    "client": "1"
   },
   "language": "python",
   "notebookMetadata": {
    "pythonIndentUnit": 4
   },
   "notebookName": "UFO Sightings",
   "widgets": {}
  }
 },
 "nbformat": 4,
 "nbformat_minor": 0
}
